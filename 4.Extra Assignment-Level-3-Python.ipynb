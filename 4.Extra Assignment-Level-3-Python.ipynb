{
 "cells": [
  {
   "cell_type": "code",
   "execution_count": 4,
   "id": "e63c3fdc",
   "metadata": {},
   "outputs": [
    {
     "name": "stdout",
     "output_type": "stream",
     "text": [
      "Enter the value: 10\n",
      "Correct\n"
     ]
    }
   ],
   "source": [
    "value = int(input(\"Enter the value: \"))\n",
    "if(value==10):\n",
    "    print(\"Correct\")\n"
   ]
  },
  {
   "cell_type": "code",
   "execution_count": 6,
   "id": "80e6db7c",
   "metadata": {},
   "outputs": [
    {
     "name": "stdout",
     "output_type": "stream",
     "text": [
      "Enter the password:HOPE@123\n",
      "Your password is correct\n"
     ]
    }
   ],
   "source": [
    "password = input(\"Enter the password:\")\n",
    "if(password==\"HOPE@123\"):\n",
    "    print(\"Your password is correct\")\n",
    "else:\n",
    "    print(\"Your password is not correct\")"
   ]
  },
  {
   "cell_type": "code",
   "execution_count": 22,
   "id": "44a56b62",
   "metadata": {},
   "outputs": [
    {
     "name": "stdout",
     "output_type": "stream",
     "text": [
      "Enter the age20\n",
      "Adult\n"
     ]
    }
   ],
   "source": [
    "age = int(input(\"Enter the age\"))\n",
    "if(age<18):\n",
    "    print(\"Children\")\n",
    "elif(age<30):\n",
    "    print(\"Adult\")\n",
    "elif(age < 50):\n",
    "    print(\"Citizen\")\n",
    "else:\n",
    "    print(\"Senior citizen\")"
   ]
  },
  {
   "cell_type": "code",
   "execution_count": 26,
   "id": "2b7ff380",
   "metadata": {},
   "outputs": [
    {
     "name": "stdout",
     "output_type": "stream",
     "text": [
      "Enter the any number:1\n",
      "No is positive\n"
     ]
    }
   ],
   "source": [
    "num = int(input(\"Enter the any number:\"))\n",
    "if(num > 0):\n",
    "    print(\"No is positive\")\n",
    "elif(num < 0):\n",
    "    print(\"No is negative\")\n",
    "else:\n",
    "    print(\"No is zero\")"
   ]
  },
  {
   "cell_type": "code",
   "execution_count": 23,
   "id": "14f7cfc1",
   "metadata": {},
   "outputs": [
    {
     "name": "stdout",
     "output_type": "stream",
     "text": [
      "Enter any number22\n",
      "No is not divisible by 5\n"
     ]
    }
   ],
   "source": [
    "num = int(input(\"Enter any number\"))\n",
    "if(num%5==0):\n",
    "    print(\"No is divisible by 5\")\n",
    "else:\n",
    "    print(\"No is not divisible by 5\")"
   ]
  },
  {
   "cell_type": "code",
   "execution_count": null,
   "id": "7f926750",
   "metadata": {},
   "outputs": [],
   "source": []
  }
 ],
 "metadata": {
  "kernelspec": {
   "display_name": "Python 3 (ipykernel)",
   "language": "python",
   "name": "python3"
  },
  "language_info": {
   "codemirror_mode": {
    "name": "ipython",
    "version": 3
   },
   "file_extension": ".py",
   "mimetype": "text/x-python",
   "name": "python",
   "nbconvert_exporter": "python",
   "pygments_lexer": "ipython3",
   "version": "3.11.5"
  }
 },
 "nbformat": 4,
 "nbformat_minor": 5
}
