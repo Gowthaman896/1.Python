{
 "cells": [
  {
   "cell_type": "code",
   "execution_count": null,
   "id": "2986dea2",
   "metadata": {},
   "outputs": [],
   "source": [
    "Assingment 1"
   ]
  },
  {
   "cell_type": "code",
   "execution_count": null,
   "id": "17ede827",
   "metadata": {},
   "outputs": [],
   "source": []
  },
  {
   "cell_type": "code",
   "execution_count": 3,
   "id": "79af8150",
   "metadata": {},
   "outputs": [
    {
     "name": "stdout",
     "output_type": "stream",
     "text": [
      "Num1 = 10\n",
      "Num2 = 30\n",
      "Add = 40\n"
     ]
    }
   ],
   "source": [
    "num1 = 10\n",
    "print(\"Num1 =\",num1)\n",
    "num2 = 30\n",
    "print(\"Num2 =\",num2)\n",
    "add = num1 + num2\n",
    "print(\"Add =\",add)"
   ]
  },
  {
   "cell_type": "code",
   "execution_count": null,
   "id": "fe6c13d6",
   "metadata": {},
   "outputs": [],
   "source": [
    "# Baby Mass Index"
   ]
  },
  {
   "cell_type": "code",
   "execution_count": 5,
   "id": "e9795411",
   "metadata": {},
   "outputs": [
    {
     "name": "stdout",
     "output_type": "stream",
     "text": [
      "Enter the BMI Index: 34\n",
      "Very over weight\n"
     ]
    }
   ],
   "source": [
    "weight = int(input(\"Enter the BMI Index: \"))\n",
    "if(weight<18.5):\n",
    "    print(\"Underweight\")\n",
    "elif(weight <= 18.5 < 24.9):\n",
    "    print(\"Normal\")\n",
    "elif(weight <= 25 < 29.9):\n",
    "    print(\"Over weight\")\n",
    "else:\n",
    "    print(\"Very over weight\")"
   ]
  },
  {
   "cell_type": "code",
   "execution_count": null,
   "id": "c2fed2c2",
   "metadata": {},
   "outputs": [],
   "source": []
  }
 ],
 "metadata": {
  "kernelspec": {
   "display_name": "Python 3 (ipykernel)",
   "language": "python",
   "name": "python3"
  },
  "language_info": {
   "codemirror_mode": {
    "name": "ipython",
    "version": 3
   },
   "file_extension": ".py",
   "mimetype": "text/x-python",
   "name": "python",
   "nbconvert_exporter": "python",
   "pygments_lexer": "ipython3",
   "version": "3.11.5"
  }
 },
 "nbformat": 4,
 "nbformat_minor": 5
}
