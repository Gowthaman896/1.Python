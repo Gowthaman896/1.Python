{
 "cells": [
  {
   "cell_type": "code",
   "execution_count": 1,
   "id": "b5122a08",
   "metadata": {},
   "outputs": [
    {
     "name": "stdout",
     "output_type": "stream",
     "text": [
      "HOPE AI\n"
     ]
    }
   ],
   "source": [
    "print(\"HOPE AI\")"
   ]
  },
  {
   "cell_type": "code",
   "execution_count": 2,
   "id": "e6c8dadf",
   "metadata": {},
   "outputs": [
    {
     "name": "stdout",
     "output_type": "stream",
     "text": [
      "Enter your institute name? :HOPE AI\n",
      "HOPE AI\n"
     ]
    }
   ],
   "source": [
    "name = input(\"Enter your institute name? :\")\n",
    "print(name)"
   ]
  },
  {
   "cell_type": "code",
   "execution_count": 3,
   "id": "41d1634f",
   "metadata": {},
   "outputs": [
    {
     "name": "stdout",
     "output_type": "stream",
     "text": [
      "Enter your name:Raj\n",
      "Raj\n",
      "Enter your age:15\n",
      "15\n",
      "Enter your school name:Guru school\n",
      "Guru school\n",
      "Enter your degree:B.E CSE\n",
      "B.E CSE\n"
     ]
    }
   ],
   "source": [
    "name = input(\"Enter your name:\")\n",
    "print(name)\n",
    "age = int(input(\"Enter your age:\"))\n",
    "print(age)\n",
    "school = input(\"Enter your school name:\")\n",
    "print(school)\n",
    "degree = input(\"Enter your degree:\")\n",
    "print(degree)\n"
   ]
  },
  {
   "cell_type": "code",
   "execution_count": 4,
   "id": "40153a6f",
   "metadata": {},
   "outputs": [
    {
     "name": "stdout",
     "output_type": "stream",
     "text": [
      "77\n"
     ]
    }
   ],
   "source": [
    "#Addition\n",
    "a = 43\n",
    "b = 34\n",
    "add = a + b\n",
    "print(add)"
   ]
  },
  {
   "cell_type": "code",
   "execution_count": 5,
   "id": "807b475e",
   "metadata": {},
   "outputs": [
    {
     "name": "stdout",
     "output_type": "stream",
     "text": [
      "9\n"
     ]
    }
   ],
   "source": [
    "#Subtraction\n",
    "a = 43\n",
    "b = 34\n",
    "sub = a - b\n",
    "print(sub)"
   ]
  },
  {
   "cell_type": "code",
   "execution_count": 6,
   "id": "c619805d",
   "metadata": {},
   "outputs": [
    {
     "name": "stdout",
     "output_type": "stream",
     "text": [
      "6111\n"
     ]
    }
   ],
   "source": [
    "#Multiplication\n",
    "a = 63\n",
    "b = 97\n",
    "mul = a * b\n",
    "print(mul)"
   ]
  },
  {
   "cell_type": "code",
   "execution_count": 8,
   "id": "f99be536",
   "metadata": {},
   "outputs": [
    {
     "name": "stdout",
     "output_type": "stream",
     "text": [
      "Float Div: 2.4516129032258065\n"
     ]
    }
   ],
   "source": [
    "#Divition\n",
    "a = 76\n",
    "b = 31\n",
    "div = a / b\n",
    "print(\"Float Div:\",div)"
   ]
  },
  {
   "cell_type": "code",
   "execution_count": 9,
   "id": "85de73ac",
   "metadata": {},
   "outputs": [
    {
     "name": "stdout",
     "output_type": "stream",
     "text": [
      "Floor Div: 2\n"
     ]
    }
   ],
   "source": [
    "#Floor divition\n",
    "a = 76\n",
    "b = 31\n",
    "div = a // b\n",
    "print(\"Floor Div:\",div)"
   ]
  },
  {
   "cell_type": "code",
   "execution_count": 16,
   "id": "58bd41b3",
   "metadata": {},
   "outputs": [
    {
     "name": "stdout",
     "output_type": "stream",
     "text": [
      "Modulo =  14\n"
     ]
    }
   ],
   "source": [
    "#Modulo\n",
    "a = 76\n",
    "b = 31\n",
    "modulo = a % b\n",
    "print(\"Modulo = \",modulo)"
   ]
  },
  {
   "cell_type": "code",
   "execution_count": 17,
   "id": "3391250a",
   "metadata": {},
   "outputs": [
    {
     "name": "stdout",
     "output_type": "stream",
     "text": [
      "Power =  256\n"
     ]
    }
   ],
   "source": [
    "#Power\n",
    "a = 4\n",
    "b = 4\n",
    "power = a ** b\n",
    "print(\"Power = \",power)"
   ]
  },
  {
   "cell_type": "code",
   "execution_count": null,
   "id": "fbe2f950",
   "metadata": {},
   "outputs": [],
   "source": []
  }
 ],
 "metadata": {
  "kernelspec": {
   "display_name": "Python 3 (ipykernel)",
   "language": "python",
   "name": "python3"
  },
  "language_info": {
   "codemirror_mode": {
    "name": "ipython",
    "version": 3
   },
   "file_extension": ".py",
   "mimetype": "text/x-python",
   "name": "python",
   "nbconvert_exporter": "python",
   "pygments_lexer": "ipython3",
   "version": "3.11.5"
  }
 },
 "nbformat": 4,
 "nbformat_minor": 5
}
