{
 "cells": [
  {
   "cell_type": "code",
   "execution_count": null,
   "id": "5212fabc",
   "metadata": {},
   "outputs": [],
   "source": [
    "#Function Assignment"
   ]
  },
  {
   "cell_type": "code",
   "execution_count": null,
   "id": "1ba86660",
   "metadata": {},
   "outputs": [],
   "source": [
    "message = input()\n",
    "def subfields():\n",
    "    if(message==\"Sub-fields in AI\"):\n",
    "        print(\"\"\"Sub-fields in AI are:\n",
    "                Machine learning\n",
    "                Neural networks\n",
    "                Vision\n",
    "                Robotics\n",
    "                Speech processing\n",
    "                Natural language processing\"\"\")\n",
    "    else:\n",
    "        print(\"This is others\")\n",
    "subfields()\n",
    "        "
   ]
  },
  {
   "cell_type": "code",
   "execution_count": null,
   "id": "6ec863c9",
   "metadata": {},
   "outputs": [],
   "source": []
  },
  {
   "cell_type": "code",
   "execution_count": null,
   "id": "5dfa7c1e",
   "metadata": {},
   "outputs": [],
   "source": [
    "#OddEven()"
   ]
  },
  {
   "cell_type": "code",
   "execution_count": null,
   "id": "9ab3f53f",
   "metadata": {},
   "outputs": [],
   "source": [
    "num = int(input(\"Enter a number:\"))\n",
    "def OddEven():\n",
    "    if(num%2==0):\n",
    "        print(num ,\"is Even number\")\n",
    "    else:\n",
    "        print(num ,\"is Odd number\")\n",
    "OddEven()"
   ]
  },
  {
   "cell_type": "code",
   "execution_count": null,
   "id": "4f7718f7",
   "metadata": {},
   "outputs": [],
   "source": []
  },
  {
   "cell_type": "code",
   "execution_count": null,
   "id": "9f685565",
   "metadata": {},
   "outputs": [],
   "source": [
    "#Elegible()"
   ]
  },
  {
   "cell_type": "code",
   "execution_count": null,
   "id": "3576717f",
   "metadata": {},
   "outputs": [],
   "source": [
    "gender = input(\"Your gender:\")\n",
    "age = int(input(\"Your age:\"))\n",
    "def Eligible():\n",
    "    if(gender==\"male\" and age<=21):\n",
    "        print(\"NOT ELIGIBLE\")\n",
    "    elif(gender==\"female\"and age<=18):\n",
    "        print(\"NOT ELIGIBLE\")\n",
    "    else:\n",
    "        print(\"ELIGIBLE\")\n",
    "Eligible()"
   ]
  },
  {
   "cell_type": "code",
   "execution_count": null,
   "id": "f944c269",
   "metadata": {},
   "outputs": [],
   "source": []
  },
  {
   "cell_type": "code",
   "execution_count": null,
   "id": "3754ff65",
   "metadata": {},
   "outputs": [],
   "source": [
    "#create Function"
   ]
  },
  {
   "cell_type": "code",
   "execution_count": null,
   "id": "bfff6cf3",
   "metadata": {},
   "outputs": [],
   "source": [
    "a =int(input(\"Subject1=\"))\n",
    "b =int(input(\"Subject2=\"))\n",
    "c =int(input(\"Subject3=\"))\n",
    "d =int(input(\"Subject4=\"))\n",
    "e =int(input(\"Subject5=\"))\n",
    "total = a+b+c+d+e\n",
    "percentage = (total/500.0)*100\n",
    "print(total)\n",
    "print(percentage)"
   ]
  },
  {
   "cell_type": "code",
   "execution_count": null,
   "id": "3dd2f33b",
   "metadata": {},
   "outputs": [],
   "source": []
  },
  {
   "cell_type": "code",
   "execution_count": null,
   "id": "57f029a7",
   "metadata": {},
   "outputs": [],
   "source": [
    "#triangle()"
   ]
  },
  {
   "cell_type": "code",
   "execution_count": 1,
   "id": "5dedbd55",
   "metadata": {},
   "outputs": [
    {
     "name": "stdout",
     "output_type": "stream",
     "text": [
      "Height:32\n",
      "Breadth:34\n",
      "Area of Triangle: 544.0\n",
      "Height1:2\n",
      "Height2:4\n",
      "Height3:4\n",
      "Perimeter of Triangle: 10\n"
     ]
    }
   ],
   "source": [
    "height =int(input(\"Height:\"))\n",
    "breadth =int(input(\"Breadth:\"))\n",
    "area = (height*breadth)/2\n",
    "print(\"Area of Triangle:\",area)\n",
    "height1 = int(input(\"Height1:\"))\n",
    "height2 = int(input(\"Height2:\"))\n",
    "height3 = int(input(\"Height3:\"))\n",
    "perimeter =height1+height2+height3\n",
    "print(\"Perimeter of Triangle:\",perimeter)"
   ]
  },
  {
   "cell_type": "code",
   "execution_count": null,
   "id": "dfad7bba",
   "metadata": {},
   "outputs": [],
   "source": []
  },
  {
   "cell_type": "code",
   "execution_count": null,
   "id": "e7c52cb0",
   "metadata": {},
   "outputs": [],
   "source": []
  }
 ],
 "metadata": {
  "kernelspec": {
   "display_name": "Python 3 (ipykernel)",
   "language": "python",
   "name": "python3"
  },
  "language_info": {
   "codemirror_mode": {
    "name": "ipython",
    "version": 3
   },
   "file_extension": ".py",
   "mimetype": "text/x-python",
   "name": "python",
   "nbconvert_exporter": "python",
   "pygments_lexer": "ipython3",
   "version": "3.11.5"
  }
 },
 "nbformat": 4,
 "nbformat_minor": 5
}
